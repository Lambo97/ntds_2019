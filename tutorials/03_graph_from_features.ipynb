{
 "cells": [
  {
   "cell_type": "markdown",
   "metadata": {},
   "source": [
    "# [NTDS'19] tutorial 3: build a graph from features\n",
    "[ntds'19]: https://github.com/mdeff/ntds_2019\n",
    "\n",
    "[Benjamin Ricaud](https://people.epfl.ch/benjamin.ricaud), [EPFL LTS2](https://lts2.epfl.ch).\n",
    "\n",
    "* Dataset: [Iris](https://archive.ics.uci.edu/ml/datasets/Iris)\n",
    "* Tools: [pandas](https://pandas.pydata.org), [numpy](http://www.numpy.org), [scipy](https://www.scipy.org), [matplotlib](https://matplotlib.org), [networkx](https://networkx.github.io), [gephi](https://gephi.org/)"
   ]
  },
  {
   "cell_type": "markdown",
   "metadata": {},
   "source": [
    "## Tools"
   ]
  },
  {
   "cell_type": "markdown",
   "metadata": {},
   "source": [
    "By convention, the first lines of code are always about importing the packages we'll use."
   ]
  },
  {
   "cell_type": "code",
   "execution_count": 1,
   "metadata": {},
   "outputs": [],
   "source": [
    "import pandas as pd\n",
    "import numpy as np\n",
    "from scipy.spatial.distance import pdist, squareform\n",
    "from matplotlib import pyplot as plt\n",
    "import networkx as nx"
   ]
  },
  {
   "cell_type": "markdown",
   "metadata": {},
   "source": [
    "Tutorials on pandas can be found at:\n",
    "* <https://pandas.pydata.org/pandas-docs/stable/10min.html>\n",
    "* <https://pandas.pydata.org/pandas-docs/stable/tutorials.html>\n",
    "\n",
    "Tutorials on numpy can be found at:\n",
    "* <https://docs.scipy.org/doc/numpy/user/quickstart.html>\n",
    "* <http://www.scipy-lectures.org/intro/numpy/index.html>\n",
    "* <http://www.scipy-lectures.org/advanced/advanced_numpy/index.html>\n",
    "\n",
    "A tutorial on networkx can be found at:\n",
    "* <https://networkx.github.io/documentation/stable/tutorial.html>"
   ]
  },
  {
   "cell_type": "markdown",
   "metadata": {},
   "source": [
    "The following line is a [magic command](https://ipython.readthedocs.io/en/stable/interactive/magics.html). It enables plotting inside the notebook."
   ]
  },
  {
   "cell_type": "code",
   "execution_count": 2,
   "metadata": {},
   "outputs": [],
   "source": [
    "%matplotlib inline\n",
    "# %matplotlib notebook"
   ]
  },
  {
   "cell_type": "markdown",
   "metadata": {},
   "source": [
    "## Import and explore the data\n",
    "\n",
    "We will play with the famous Iris dataset. This dataset can be found in many places on the net and was first released at <https://archive.ics.uci.edu/ml/index.php>. For example it is stored on [Kaggle](https://www.kaggle.com/uciml/iris/), with many demos and Jupyter notebooks you can test (have a look at the \"kernels\" tab).\n",
    "\n",
    "![Iris Par Za — Travail personnel, CC BY-SA 3.0, https://commons.wikimedia.org/w/index.php?curid=144395](https://upload.wikimedia.org/wikipedia/commons/thumb/2/27/Iris_germanica_002.jpg/251px-Iris_germanica_002.jpg)"
   ]
  },
  {
   "cell_type": "code",
   "execution_count": 3,
   "metadata": {},
   "outputs": [
    {
     "data": {
      "text/html": [
       "<div>\n",
       "<style scoped>\n",
       "    .dataframe tbody tr th:only-of-type {\n",
       "        vertical-align: middle;\n",
       "    }\n",
       "\n",
       "    .dataframe tbody tr th {\n",
       "        vertical-align: top;\n",
       "    }\n",
       "\n",
       "    .dataframe thead th {\n",
       "        text-align: right;\n",
       "    }\n",
       "</style>\n",
       "<table border=\"1\" class=\"dataframe\">\n",
       "  <thead>\n",
       "    <tr style=\"text-align: right;\">\n",
       "      <th></th>\n",
       "      <th>Id</th>\n",
       "      <th>SepalLengthCm</th>\n",
       "      <th>SepalWidthCm</th>\n",
       "      <th>PetalLengthCm</th>\n",
       "      <th>PetalWidthCm</th>\n",
       "      <th>Species</th>\n",
       "    </tr>\n",
       "  </thead>\n",
       "  <tbody>\n",
       "    <tr>\n",
       "      <td>0</td>\n",
       "      <td>1</td>\n",
       "      <td>5.1</td>\n",
       "      <td>3.5</td>\n",
       "      <td>1.4</td>\n",
       "      <td>0.2</td>\n",
       "      <td>Iris-setosa</td>\n",
       "    </tr>\n",
       "    <tr>\n",
       "      <td>1</td>\n",
       "      <td>2</td>\n",
       "      <td>4.9</td>\n",
       "      <td>3.0</td>\n",
       "      <td>1.4</td>\n",
       "      <td>0.2</td>\n",
       "      <td>Iris-setosa</td>\n",
       "    </tr>\n",
       "    <tr>\n",
       "      <td>2</td>\n",
       "      <td>3</td>\n",
       "      <td>4.7</td>\n",
       "      <td>3.2</td>\n",
       "      <td>1.3</td>\n",
       "      <td>0.2</td>\n",
       "      <td>Iris-setosa</td>\n",
       "    </tr>\n",
       "    <tr>\n",
       "      <td>3</td>\n",
       "      <td>4</td>\n",
       "      <td>4.6</td>\n",
       "      <td>3.1</td>\n",
       "      <td>1.5</td>\n",
       "      <td>0.2</td>\n",
       "      <td>Iris-setosa</td>\n",
       "    </tr>\n",
       "    <tr>\n",
       "      <td>4</td>\n",
       "      <td>5</td>\n",
       "      <td>5.0</td>\n",
       "      <td>3.6</td>\n",
       "      <td>1.4</td>\n",
       "      <td>0.2</td>\n",
       "      <td>Iris-setosa</td>\n",
       "    </tr>\n",
       "  </tbody>\n",
       "</table>\n",
       "</div>"
      ],
      "text/plain": [
       "   Id  SepalLengthCm  SepalWidthCm  PetalLengthCm  PetalWidthCm      Species\n",
       "0   1            5.1           3.5            1.4           0.2  Iris-setosa\n",
       "1   2            4.9           3.0            1.4           0.2  Iris-setosa\n",
       "2   3            4.7           3.2            1.3           0.2  Iris-setosa\n",
       "3   4            4.6           3.1            1.5           0.2  Iris-setosa\n",
       "4   5            5.0           3.6            1.4           0.2  Iris-setosa"
      ]
     },
     "execution_count": 3,
     "metadata": {},
     "output_type": "execute_result"
    }
   ],
   "source": [
    "iris = pd.read_csv('data/iris.csv')\n",
    "iris.head()"
   ]
  },
  {
   "cell_type": "markdown",
   "metadata": {},
   "source": [
    "The description of the entries is given here:\n",
    "https://www.kaggle.com/uciml/iris/home"
   ]
  },
  {
   "cell_type": "code",
   "execution_count": 4,
   "metadata": {},
   "outputs": [
    {
     "data": {
      "text/plain": [
       "array(['Iris-setosa', 'Iris-versicolor', 'Iris-virginica'], dtype=object)"
      ]
     },
     "execution_count": 4,
     "metadata": {},
     "output_type": "execute_result"
    }
   ],
   "source": [
    "iris['Species'].unique()"
   ]
  },
  {
   "cell_type": "code",
   "execution_count": 5,
   "metadata": {},
   "outputs": [
    {
     "data": {
      "text/html": [
       "<div>\n",
       "<style scoped>\n",
       "    .dataframe tbody tr th:only-of-type {\n",
       "        vertical-align: middle;\n",
       "    }\n",
       "\n",
       "    .dataframe tbody tr th {\n",
       "        vertical-align: top;\n",
       "    }\n",
       "\n",
       "    .dataframe thead th {\n",
       "        text-align: right;\n",
       "    }\n",
       "</style>\n",
       "<table border=\"1\" class=\"dataframe\">\n",
       "  <thead>\n",
       "    <tr style=\"text-align: right;\">\n",
       "      <th></th>\n",
       "      <th>Id</th>\n",
       "      <th>SepalLengthCm</th>\n",
       "      <th>SepalWidthCm</th>\n",
       "      <th>PetalLengthCm</th>\n",
       "      <th>PetalWidthCm</th>\n",
       "    </tr>\n",
       "  </thead>\n",
       "  <tbody>\n",
       "    <tr>\n",
       "      <td>count</td>\n",
       "      <td>150.000000</td>\n",
       "      <td>150.000000</td>\n",
       "      <td>150.000000</td>\n",
       "      <td>150.000000</td>\n",
       "      <td>150.000000</td>\n",
       "    </tr>\n",
       "    <tr>\n",
       "      <td>mean</td>\n",
       "      <td>75.500000</td>\n",
       "      <td>5.843333</td>\n",
       "      <td>3.054000</td>\n",
       "      <td>3.758667</td>\n",
       "      <td>1.198667</td>\n",
       "    </tr>\n",
       "    <tr>\n",
       "      <td>std</td>\n",
       "      <td>43.445368</td>\n",
       "      <td>0.828066</td>\n",
       "      <td>0.433594</td>\n",
       "      <td>1.764420</td>\n",
       "      <td>0.763161</td>\n",
       "    </tr>\n",
       "    <tr>\n",
       "      <td>min</td>\n",
       "      <td>1.000000</td>\n",
       "      <td>4.300000</td>\n",
       "      <td>2.000000</td>\n",
       "      <td>1.000000</td>\n",
       "      <td>0.100000</td>\n",
       "    </tr>\n",
       "    <tr>\n",
       "      <td>25%</td>\n",
       "      <td>38.250000</td>\n",
       "      <td>5.100000</td>\n",
       "      <td>2.800000</td>\n",
       "      <td>1.600000</td>\n",
       "      <td>0.300000</td>\n",
       "    </tr>\n",
       "    <tr>\n",
       "      <td>50%</td>\n",
       "      <td>75.500000</td>\n",
       "      <td>5.800000</td>\n",
       "      <td>3.000000</td>\n",
       "      <td>4.350000</td>\n",
       "      <td>1.300000</td>\n",
       "    </tr>\n",
       "    <tr>\n",
       "      <td>75%</td>\n",
       "      <td>112.750000</td>\n",
       "      <td>6.400000</td>\n",
       "      <td>3.300000</td>\n",
       "      <td>5.100000</td>\n",
       "      <td>1.800000</td>\n",
       "    </tr>\n",
       "    <tr>\n",
       "      <td>max</td>\n",
       "      <td>150.000000</td>\n",
       "      <td>7.900000</td>\n",
       "      <td>4.400000</td>\n",
       "      <td>6.900000</td>\n",
       "      <td>2.500000</td>\n",
       "    </tr>\n",
       "  </tbody>\n",
       "</table>\n",
       "</div>"
      ],
      "text/plain": [
       "               Id  SepalLengthCm  SepalWidthCm  PetalLengthCm  PetalWidthCm\n",
       "count  150.000000     150.000000    150.000000     150.000000    150.000000\n",
       "mean    75.500000       5.843333      3.054000       3.758667      1.198667\n",
       "std     43.445368       0.828066      0.433594       1.764420      0.763161\n",
       "min      1.000000       4.300000      2.000000       1.000000      0.100000\n",
       "25%     38.250000       5.100000      2.800000       1.600000      0.300000\n",
       "50%     75.500000       5.800000      3.000000       4.350000      1.300000\n",
       "75%    112.750000       6.400000      3.300000       5.100000      1.800000\n",
       "max    150.000000       7.900000      4.400000       6.900000      2.500000"
      ]
     },
     "execution_count": 5,
     "metadata": {},
     "output_type": "execute_result"
    }
   ],
   "source": [
    "iris.describe()"
   ]
  },
  {
   "cell_type": "markdown",
   "metadata": {},
   "source": [
    "## Build a graph from the features\n",
    "\n",
    "We are going to build a graph from these data. The idea is to represent iris samples (rows of the table) as nodes, with connections depending on their physical similarity.\n",
    "\n",
    "The main question is how to define the notion of similarity between the flowers. For that, we need to introduce a measure of similarity. It should use the properties of the flowers and provide a positive real value for each pair of samples. \n",
    "\n",
    "*Remark:* The value should increase with the similarity.\n",
    "\n",
    "Let us separate the data into two parts: physical properties and labels."
   ]
  },
  {
   "cell_type": "code",
   "execution_count": 6,
   "metadata": {},
   "outputs": [],
   "source": [
    "features = iris.loc[:, ['SepalLengthCm', 'SepalWidthCm', 'PetalLengthCm', 'PetalWidthCm']]\n",
    "species = iris.loc[:, 'Species']"
   ]
  },
  {
   "cell_type": "code",
   "execution_count": 7,
   "metadata": {},
   "outputs": [
    {
     "data": {
      "text/html": [
       "<div>\n",
       "<style scoped>\n",
       "    .dataframe tbody tr th:only-of-type {\n",
       "        vertical-align: middle;\n",
       "    }\n",
       "\n",
       "    .dataframe tbody tr th {\n",
       "        vertical-align: top;\n",
       "    }\n",
       "\n",
       "    .dataframe thead th {\n",
       "        text-align: right;\n",
       "    }\n",
       "</style>\n",
       "<table border=\"1\" class=\"dataframe\">\n",
       "  <thead>\n",
       "    <tr style=\"text-align: right;\">\n",
       "      <th></th>\n",
       "      <th>SepalLengthCm</th>\n",
       "      <th>SepalWidthCm</th>\n",
       "      <th>PetalLengthCm</th>\n",
       "      <th>PetalWidthCm</th>\n",
       "    </tr>\n",
       "  </thead>\n",
       "  <tbody>\n",
       "    <tr>\n",
       "      <td>0</td>\n",
       "      <td>5.1</td>\n",
       "      <td>3.5</td>\n",
       "      <td>1.4</td>\n",
       "      <td>0.2</td>\n",
       "    </tr>\n",
       "    <tr>\n",
       "      <td>1</td>\n",
       "      <td>4.9</td>\n",
       "      <td>3.0</td>\n",
       "      <td>1.4</td>\n",
       "      <td>0.2</td>\n",
       "    </tr>\n",
       "    <tr>\n",
       "      <td>2</td>\n",
       "      <td>4.7</td>\n",
       "      <td>3.2</td>\n",
       "      <td>1.3</td>\n",
       "      <td>0.2</td>\n",
       "    </tr>\n",
       "    <tr>\n",
       "      <td>3</td>\n",
       "      <td>4.6</td>\n",
       "      <td>3.1</td>\n",
       "      <td>1.5</td>\n",
       "      <td>0.2</td>\n",
       "    </tr>\n",
       "    <tr>\n",
       "      <td>4</td>\n",
       "      <td>5.0</td>\n",
       "      <td>3.6</td>\n",
       "      <td>1.4</td>\n",
       "      <td>0.2</td>\n",
       "    </tr>\n",
       "  </tbody>\n",
       "</table>\n",
       "</div>"
      ],
      "text/plain": [
       "   SepalLengthCm  SepalWidthCm  PetalLengthCm  PetalWidthCm\n",
       "0            5.1           3.5            1.4           0.2\n",
       "1            4.9           3.0            1.4           0.2\n",
       "2            4.7           3.2            1.3           0.2\n",
       "3            4.6           3.1            1.5           0.2\n",
       "4            5.0           3.6            1.4           0.2"
      ]
     },
     "execution_count": 7,
     "metadata": {},
     "output_type": "execute_result"
    }
   ],
   "source": [
    "features.head()"
   ]
  },
  {
   "cell_type": "code",
   "execution_count": 8,
   "metadata": {},
   "outputs": [
    {
     "data": {
      "text/plain": [
       "0    Iris-setosa\n",
       "1    Iris-setosa\n",
       "2    Iris-setosa\n",
       "3    Iris-setosa\n",
       "4    Iris-setosa\n",
       "Name: Species, dtype: object"
      ]
     },
     "execution_count": 8,
     "metadata": {},
     "output_type": "execute_result"
    }
   ],
   "source": [
    "species.head()"
   ]
  },
  {
   "cell_type": "markdown",
   "metadata": {},
   "source": [
    "### Similarity, distance and edge weight"
   ]
  },
  {
   "cell_type": "markdown",
   "metadata": {},
   "source": [
    "You can define many similarity measures. One of the most intuitive and perhaps the easiest to program relies on the notion of distance. If a distance between samples is defined, we can compute the weight accordingly: if the distance is short, which means the nodes are similar, we want a strong connection between them (large weight)."
   ]
  },
  {
   "cell_type": "markdown",
   "metadata": {},
   "source": [
    "#### Different distances\n",
    "The cosine distance is a good candidate for high-dimensional data. It is defined as follows:\n",
    "$$d(u,v) = 1 - \\frac{u \\cdot v} {\\|u\\|_2 \\|v\\|_2},$$\n",
    "where $u$ and $v$ are two feature vectors.\n",
    " \n",
    "The distance is proportional to the angle formed by the two vectors (0 if colinear, 1 if orthogonal, 2 if opposed direction).\n",
    "\n",
    "Alternatives are the [$p$-norms](https://en.wikipedia.org/wiki/Norm_%28mathematics%29#p-norm) (or $\\ell_p$-norms), defined as\n",
    "$$d(u,v) = \\|u - v\\|_p,$$\n",
    "of which the Euclidean distance is a special case with $p=2$."
   ]
  },
  {
   "cell_type": "markdown",
   "metadata": {},
   "source": [
    "The `pdist` function from `scipy` computes the pairwise distance. By default it is the Euclidian distance. `features.values` is a numpy array extracted from the Pandas dataframe. Very handy."
   ]
  },
  {
   "cell_type": "code",
   "execution_count": 9,
   "metadata": {},
   "outputs": [
    {
     "data": {
      "text/plain": [
       "\u001b[0;31mSignature:\u001b[0m \u001b[0mpdist\u001b[0m\u001b[0;34m(\u001b[0m\u001b[0mX\u001b[0m\u001b[0;34m,\u001b[0m \u001b[0mmetric\u001b[0m\u001b[0;34m=\u001b[0m\u001b[0;34m'euclidean'\u001b[0m\u001b[0;34m,\u001b[0m \u001b[0;34m*\u001b[0m\u001b[0margs\u001b[0m\u001b[0;34m,\u001b[0m \u001b[0;34m**\u001b[0m\u001b[0mkwargs\u001b[0m\u001b[0;34m)\u001b[0m\u001b[0;34m\u001b[0m\u001b[0;34m\u001b[0m\u001b[0m\n",
       "\u001b[0;31mDocstring:\u001b[0m\n",
       "Pairwise distances between observations in n-dimensional space.\n",
       "\n",
       "See Notes for common calling conventions.\n",
       "\n",
       "Parameters\n",
       "----------\n",
       "X : ndarray\n",
       "    An m by n array of m original observations in an\n",
       "    n-dimensional space.\n",
       "metric : str or function, optional\n",
       "    The distance metric to use. The distance function can\n",
       "    be 'braycurtis', 'canberra', 'chebyshev', 'cityblock',\n",
       "    'correlation', 'cosine', 'dice', 'euclidean', 'hamming',\n",
       "    'jaccard', 'jensenshannon', 'kulsinski', 'mahalanobis', 'matching',\n",
       "    'minkowski', 'rogerstanimoto', 'russellrao', 'seuclidean',\n",
       "    'sokalmichener', 'sokalsneath', 'sqeuclidean', 'yule'.\n",
       "*args : tuple. Deprecated.\n",
       "    Additional arguments should be passed as keyword arguments\n",
       "**kwargs : dict, optional\n",
       "    Extra arguments to `metric`: refer to each metric documentation for a\n",
       "    list of all possible arguments.\n",
       "\n",
       "    Some possible arguments:\n",
       "\n",
       "    p : scalar\n",
       "    The p-norm to apply for Minkowski, weighted and unweighted.\n",
       "    Default: 2.\n",
       "\n",
       "    w : ndarray\n",
       "    The weight vector for metrics that support weights (e.g., Minkowski).\n",
       "\n",
       "    V : ndarray\n",
       "    The variance vector for standardized Euclidean.\n",
       "    Default: var(X, axis=0, ddof=1)\n",
       "\n",
       "    VI : ndarray\n",
       "    The inverse of the covariance matrix for Mahalanobis.\n",
       "    Default: inv(cov(X.T)).T\n",
       "\n",
       "    out : ndarray.\n",
       "    The output array\n",
       "    If not None, condensed distance matrix Y is stored in this array.\n",
       "    Note: metric independent, it will become a regular keyword arg in a\n",
       "    future scipy version\n",
       "\n",
       "Returns\n",
       "-------\n",
       "Y : ndarray\n",
       "    Returns a condensed distance matrix Y.  For\n",
       "    each :math:`i` and :math:`j` (where :math:`i<j<m`),where m is the number\n",
       "    of original observations. The metric ``dist(u=X[i], v=X[j])``\n",
       "    is computed and stored in entry ``ij``.\n",
       "\n",
       "See Also\n",
       "--------\n",
       "squareform : converts between condensed distance matrices and\n",
       "             square distance matrices.\n",
       "\n",
       "Notes\n",
       "-----\n",
       "See ``squareform`` for information on how to calculate the index of\n",
       "this entry or to convert the condensed distance matrix to a\n",
       "redundant square matrix.\n",
       "\n",
       "The following are common calling conventions.\n",
       "\n",
       "1. ``Y = pdist(X, 'euclidean')``\n",
       "\n",
       "   Computes the distance between m points using Euclidean distance\n",
       "   (2-norm) as the distance metric between the points. The points\n",
       "   are arranged as m n-dimensional row vectors in the matrix X.\n",
       "\n",
       "2. ``Y = pdist(X, 'minkowski', p=2.)``\n",
       "\n",
       "   Computes the distances using the Minkowski distance\n",
       "   :math:`||u-v||_p` (p-norm) where :math:`p \\geq 1`.\n",
       "\n",
       "3. ``Y = pdist(X, 'cityblock')``\n",
       "\n",
       "   Computes the city block or Manhattan distance between the\n",
       "   points.\n",
       "\n",
       "4. ``Y = pdist(X, 'seuclidean', V=None)``\n",
       "\n",
       "   Computes the standardized Euclidean distance. The standardized\n",
       "   Euclidean distance between two n-vectors ``u`` and ``v`` is\n",
       "\n",
       "   .. math::\n",
       "\n",
       "      \\sqrt{\\sum {(u_i-v_i)^2 / V[x_i]}}\n",
       "\n",
       "\n",
       "   V is the variance vector; V[i] is the variance computed over all\n",
       "   the i'th components of the points.  If not passed, it is\n",
       "   automatically computed.\n",
       "\n",
       "5. ``Y = pdist(X, 'sqeuclidean')``\n",
       "\n",
       "   Computes the squared Euclidean distance :math:`||u-v||_2^2` between\n",
       "   the vectors.\n",
       "\n",
       "6. ``Y = pdist(X, 'cosine')``\n",
       "\n",
       "   Computes the cosine distance between vectors u and v,\n",
       "\n",
       "   .. math::\n",
       "\n",
       "      1 - \\frac{u \\cdot v}\n",
       "               {{||u||}_2 {||v||}_2}\n",
       "\n",
       "   where :math:`||*||_2` is the 2-norm of its argument ``*``, and\n",
       "   :math:`u \\cdot v` is the dot product of ``u`` and ``v``.\n",
       "\n",
       "7. ``Y = pdist(X, 'correlation')``\n",
       "\n",
       "   Computes the correlation distance between vectors u and v. This is\n",
       "\n",
       "   .. math::\n",
       "\n",
       "      1 - \\frac{(u - \\bar{u}) \\cdot (v - \\bar{v})}\n",
       "               {{||(u - \\bar{u})||}_2 {||(v - \\bar{v})||}_2}\n",
       "\n",
       "   where :math:`\\bar{v}` is the mean of the elements of vector v,\n",
       "   and :math:`x \\cdot y` is the dot product of :math:`x` and :math:`y`.\n",
       "\n",
       "8. ``Y = pdist(X, 'hamming')``\n",
       "\n",
       "   Computes the normalized Hamming distance, or the proportion of\n",
       "   those vector elements between two n-vectors ``u`` and ``v``\n",
       "   which disagree. To save memory, the matrix ``X`` can be of type\n",
       "   boolean.\n",
       "\n",
       "9. ``Y = pdist(X, 'jaccard')``\n",
       "\n",
       "   Computes the Jaccard distance between the points. Given two\n",
       "   vectors, ``u`` and ``v``, the Jaccard distance is the\n",
       "   proportion of those elements ``u[i]`` and ``v[i]`` that\n",
       "   disagree.\n",
       "\n",
       "10. ``Y = pdist(X, 'chebyshev')``\n",
       "\n",
       "   Computes the Chebyshev distance between the points. The\n",
       "   Chebyshev distance between two n-vectors ``u`` and ``v`` is the\n",
       "   maximum norm-1 distance between their respective elements. More\n",
       "   precisely, the distance is given by\n",
       "\n",
       "   .. math::\n",
       "\n",
       "      d(u,v) = \\max_i {|u_i-v_i|}\n",
       "\n",
       "11. ``Y = pdist(X, 'canberra')``\n",
       "\n",
       "   Computes the Canberra distance between the points. The\n",
       "   Canberra distance between two points ``u`` and ``v`` is\n",
       "\n",
       "   .. math::\n",
       "\n",
       "     d(u,v) = \\sum_i \\frac{|u_i-v_i|}\n",
       "                          {|u_i|+|v_i|}\n",
       "\n",
       "\n",
       "12. ``Y = pdist(X, 'braycurtis')``\n",
       "\n",
       "   Computes the Bray-Curtis distance between the points. The\n",
       "   Bray-Curtis distance between two points ``u`` and ``v`` is\n",
       "\n",
       "\n",
       "   .. math::\n",
       "\n",
       "        d(u,v) = \\frac{\\sum_i {|u_i-v_i|}}\n",
       "                       {\\sum_i {|u_i+v_i|}}\n",
       "\n",
       "13. ``Y = pdist(X, 'mahalanobis', VI=None)``\n",
       "\n",
       "   Computes the Mahalanobis distance between the points. The\n",
       "   Mahalanobis distance between two points ``u`` and ``v`` is\n",
       "   :math:`\\sqrt{(u-v)(1/V)(u-v)^T}` where :math:`(1/V)` (the ``VI``\n",
       "   variable) is the inverse covariance. If ``VI`` is not None,\n",
       "   ``VI`` will be used as the inverse covariance matrix.\n",
       "\n",
       "14. ``Y = pdist(X, 'yule')``\n",
       "\n",
       "   Computes the Yule distance between each pair of boolean\n",
       "   vectors. (see yule function documentation)\n",
       "\n",
       "15. ``Y = pdist(X, 'matching')``\n",
       "\n",
       "   Synonym for 'hamming'.\n",
       "\n",
       "16. ``Y = pdist(X, 'dice')``\n",
       "\n",
       "   Computes the Dice distance between each pair of boolean\n",
       "   vectors. (see dice function documentation)\n",
       "\n",
       "17. ``Y = pdist(X, 'kulsinski')``\n",
       "\n",
       "   Computes the Kulsinski distance between each pair of\n",
       "   boolean vectors. (see kulsinski function documentation)\n",
       "\n",
       "18. ``Y = pdist(X, 'rogerstanimoto')``\n",
       "\n",
       "   Computes the Rogers-Tanimoto distance between each pair of\n",
       "   boolean vectors. (see rogerstanimoto function documentation)\n",
       "\n",
       "19. ``Y = pdist(X, 'russellrao')``\n",
       "\n",
       "   Computes the Russell-Rao distance between each pair of\n",
       "   boolean vectors. (see russellrao function documentation)\n",
       "\n",
       "20. ``Y = pdist(X, 'sokalmichener')``\n",
       "\n",
       "   Computes the Sokal-Michener distance between each pair of\n",
       "   boolean vectors. (see sokalmichener function documentation)\n",
       "\n",
       "21. ``Y = pdist(X, 'sokalsneath')``\n",
       "\n",
       "   Computes the Sokal-Sneath distance between each pair of\n",
       "   boolean vectors. (see sokalsneath function documentation)\n",
       "\n",
       "22. ``Y = pdist(X, 'wminkowski', p=2, w=w)``\n",
       "\n",
       "   Computes the weighted Minkowski distance between each pair of\n",
       "   vectors. (see wminkowski function documentation)\n",
       "\n",
       "23. ``Y = pdist(X, f)``\n",
       "\n",
       "   Computes the distance between all pairs of vectors in X\n",
       "   using the user supplied 2-arity function f. For example,\n",
       "   Euclidean distance between the vectors could be computed\n",
       "   as follows::\n",
       "\n",
       "     dm = pdist(X, lambda u, v: np.sqrt(((u-v)**2).sum()))\n",
       "\n",
       "   Note that you should avoid passing a reference to one of\n",
       "   the distance functions defined in this library. For example,::\n",
       "\n",
       "     dm = pdist(X, sokalsneath)\n",
       "\n",
       "   would calculate the pair-wise distances between the vectors in\n",
       "   X using the Python function sokalsneath. This would result in\n",
       "   sokalsneath being called :math:`{n \\choose 2}` times, which\n",
       "   is inefficient. Instead, the optimized C version is more\n",
       "   efficient, and we call it using the following syntax.::\n",
       "\n",
       "     dm = pdist(X, 'sokalsneath')\n",
       "\u001b[0;31mFile:\u001b[0m      ~/anaconda3/envs/ntds_2019/lib/python3.7/site-packages/scipy/spatial/distance.py\n",
       "\u001b[0;31mType:\u001b[0m      function\n"
      ]
     },
     "metadata": {},
     "output_type": "display_data"
    }
   ],
   "source": [
    "#from scipy.spatial.distance import pdist, squareform\n",
    "pdist?"
   ]
  },
  {
   "cell_type": "code",
   "execution_count": 11,
   "metadata": {},
   "outputs": [
    {
     "data": {
      "text/plain": [
       "array([0.53851648, 0.50990195, 0.64807407, ..., 0.6164414 , 0.64031242,\n",
       "       0.76811457])"
      ]
     },
     "execution_count": 11,
     "metadata": {},
     "output_type": "execute_result"
    }
   ],
   "source": [
    "distances = pdist(features.values, metric='euclidean')\n",
    "# other metrics: 'cosine', 'cityblock', 'minkowski'\n",
    "distances"
   ]
  },
  {
   "cell_type": "markdown",
   "metadata": {},
   "source": [
    "Now that we have a distance, we can compute the weights."
   ]
  },
  {
   "cell_type": "markdown",
   "metadata": {},
   "source": [
    "#### Distance to weights\n",
    "A common function used to turn distances into edge weights is the Gaussian function:\n",
    "$$\\mathbf{W}(u,v) = \\exp \\left( \\frac{-d^2(u, v)}{\\sigma^2} \\right),$$\n",
    "where $\\sigma$ is the parameter which controls the width of the Gaussian.\n",
    "  \n",
    "The function giving the weights should be positive and monotonically decreasing with respect to the distance. It should take its maximum value when the distance is zero, and tend to zero when the distance increases. Note that distances are non-negative by definition. So any funtion $f : \\mathbb{R}^+ \\rightarrow [0,C]$ that verifies $f(0)=C$ and $\\lim_{x \\rightarrow +\\infty}f(x)=0$ and is *strictly* decreasing should be adapted. The choice of the function depends on the data.\n",
    "\n",
    "Some examples:\n",
    "* A simple linear function $\\mathbf{W}(u,v) = \\frac{d_{max} - d(u, v)}{d_{max} - d_{min}}$. As the cosine distance is bounded by $[0,2]$, a suitable linear function for it would be $\\mathbf{W}(u,v) = 1 - d(u,v)/2$.\n",
    "* A triangular kernel: a straight line between the points $(0,1)$ and $(t_0,0)$, and equal to 0 after this point.\n",
    "* The logistic kernel $\\left(e^{d(u,v)} + 2 + e^{-d(u,v)} \\right)^{-1}$.\n",
    "* An inverse function $(\\epsilon+d(u,v))^{-n}$, with $n \\in \\mathbb{N}^{+*}$ and $\\epsilon \\in \\mathbb{R}^+$.\n",
    "* You can find some more [here](https://en.wikipedia.org/wiki/Kernel_%28statistics%29).\n",
    " "
   ]
  },
  {
   "cell_type": "code",
   "execution_count": 12,
   "metadata": {},
   "outputs": [],
   "source": [
    "# Let us use the Gaussian function\n",
    "kernel_width = distances.mean()\n",
    "weights_list = np.exp(-distances**2 / kernel_width**2)"
   ]
  },
  {
   "cell_type": "code",
   "execution_count": 15,
   "metadata": {},
   "outputs": [],
   "source": [
    "# Turn the list of weights into a matrix.\n",
    "weight_matrix = squareform(weights_list)"
   ]
  },
  {
   "cell_type": "markdown",
   "metadata": {},
   "source": [
    "**Exercise:** Find the nodes with highest degree and display their respective entry in the `iris` dataframe. Do they belong to the same iris species?"
   ]
  },
  {
   "cell_type": "code",
   "execution_count": null,
   "metadata": {},
   "outputs": [],
   "source": [
    "# Your code here."
   ]
  },
  {
   "cell_type": "markdown",
   "metadata": {},
   "source": [
    "Sometimes, you may need to compute additional features before processing them with some machine learning or some other data processing step. With Pandas, it is as simple as that:"
   ]
  },
  {
   "cell_type": "code",
   "execution_count": 16,
   "metadata": {},
   "outputs": [
    {
     "data": {
      "text/html": [
       "<div>\n",
       "<style scoped>\n",
       "    .dataframe tbody tr th:only-of-type {\n",
       "        vertical-align: middle;\n",
       "    }\n",
       "\n",
       "    .dataframe tbody tr th {\n",
       "        vertical-align: top;\n",
       "    }\n",
       "\n",
       "    .dataframe thead th {\n",
       "        text-align: right;\n",
       "    }\n",
       "</style>\n",
       "<table border=\"1\" class=\"dataframe\">\n",
       "  <thead>\n",
       "    <tr style=\"text-align: right;\">\n",
       "      <th></th>\n",
       "      <th>SepalLengthCm</th>\n",
       "      <th>SepalWidthCm</th>\n",
       "      <th>PetalLengthCm</th>\n",
       "      <th>PetalWidthCm</th>\n",
       "      <th>SepalLengthSquared</th>\n",
       "    </tr>\n",
       "  </thead>\n",
       "  <tbody>\n",
       "    <tr>\n",
       "      <td>0</td>\n",
       "      <td>5.1</td>\n",
       "      <td>3.5</td>\n",
       "      <td>1.4</td>\n",
       "      <td>0.2</td>\n",
       "      <td>26.01</td>\n",
       "    </tr>\n",
       "    <tr>\n",
       "      <td>1</td>\n",
       "      <td>4.9</td>\n",
       "      <td>3.0</td>\n",
       "      <td>1.4</td>\n",
       "      <td>0.2</td>\n",
       "      <td>24.01</td>\n",
       "    </tr>\n",
       "    <tr>\n",
       "      <td>2</td>\n",
       "      <td>4.7</td>\n",
       "      <td>3.2</td>\n",
       "      <td>1.3</td>\n",
       "      <td>0.2</td>\n",
       "      <td>22.09</td>\n",
       "    </tr>\n",
       "    <tr>\n",
       "      <td>3</td>\n",
       "      <td>4.6</td>\n",
       "      <td>3.1</td>\n",
       "      <td>1.5</td>\n",
       "      <td>0.2</td>\n",
       "      <td>21.16</td>\n",
       "    </tr>\n",
       "    <tr>\n",
       "      <td>4</td>\n",
       "      <td>5.0</td>\n",
       "      <td>3.6</td>\n",
       "      <td>1.4</td>\n",
       "      <td>0.2</td>\n",
       "      <td>25.00</td>\n",
       "    </tr>\n",
       "  </tbody>\n",
       "</table>\n",
       "</div>"
      ],
      "text/plain": [
       "   SepalLengthCm  SepalWidthCm  PetalLengthCm  PetalWidthCm  \\\n",
       "0            5.1           3.5            1.4           0.2   \n",
       "1            4.9           3.0            1.4           0.2   \n",
       "2            4.7           3.2            1.3           0.2   \n",
       "3            4.6           3.1            1.5           0.2   \n",
       "4            5.0           3.6            1.4           0.2   \n",
       "\n",
       "   SepalLengthSquared  \n",
       "0               26.01  \n",
       "1               24.01  \n",
       "2               22.09  \n",
       "3               21.16  \n",
       "4               25.00  "
      ]
     },
     "execution_count": 16,
     "metadata": {},
     "output_type": "execute_result"
    }
   ],
   "source": [
    "# Compute a new column using the existing ones.\n",
    "features['SepalLengthSquared'] = features['SepalLengthCm']**2\n",
    "features.head()"
   ]
  },
  {
   "cell_type": "markdown",
   "metadata": {},
   "source": [
    "Coming back to the weight matrix, we have obtained a full matrix but we may not need all the connections (reducing the number of connections saves some space and computations!). We can sparsify the graph by removing the values (edges) below some fixed threshold. Let us see what kind of threshold we could use:"
   ]
  },
  {
   "cell_type": "code",
   "execution_count": 19,
   "metadata": {},
   "outputs": [
    {
     "data": {
      "image/png": "[encoded data removed]",
      "text/plain": [
       "<Figure size 432x288 with 1 Axes>"
      ]
     },
     "metadata": {
      "needs_background": "light"
     },
     "output_type": "display_data"
    }
   ],
   "source": [
    "plt.hist(weights_list)\n",
    "plt.title('Distribution of weights')\n",
    "plt.show()"
   ]
  },
  {
   "cell_type": "code",
   "execution_count": 18,
   "metadata": {},
   "outputs": [],
   "source": [
    "# Let us choose a threshold of 0.6.\n",
    "# Too high, we will have disconnected components\n",
    "# Too low, the graph will have too many connections\n",
    "weight_matrix[weight_matrix < 0.6] = 0"
   ]
  },
  {
   "cell_type": "markdown",
   "metadata": {},
   "source": [
    "**Exercise:** Plot the number of edges with respect to the threshold, for threshold values between 0 and 1."
   ]
  },
  {
   "cell_type": "code",
   "execution_count": null,
   "metadata": {},
   "outputs": [],
   "source": [
    "# Your code here."
   ]
  },
  {
   "cell_type": "markdown",
   "metadata": {},
   "source": [
    "*Remark:* The distances presented here do not work well for categorical data."
   ]
  },
  {
   "cell_type": "markdown",
   "metadata": {},
   "source": [
    "## Graph visualization\n",
    "\n",
    "To conclude, let us visualize the graph. We will use the python module networkx."
   ]
  },
  {
   "cell_type": "code",
   "execution_count": 20,
   "metadata": {},
   "outputs": [],
   "source": [
    "# A simple command to create the graph from the adjacency matrix.\n",
    "graph = nx.from_numpy_array(weight_matrix)"
   ]
  },
  {
   "cell_type": "markdown",
   "metadata": {},
   "source": [
    "Let us try some direct visualizations using networkx."
   ]
  },
  {
   "cell_type": "code",
   "execution_count": 21,
   "metadata": {},
   "outputs": [],
   "source": [
    "# Let us add some colors\n",
    "colors = species.values\n",
    "colors[colors == 'Iris-setosa'] = 0\n",
    "colors[colors == 'Iris-versicolor'] = 1\n",
    "colors[colors == 'Iris-virginica'] = 2"
   ]
  },
  {
   "cell_type": "code",
   "execution_count": 22,
   "metadata": {},
   "outputs": [
    {
     "name": "stderr",
     "output_type": "stream",
     "text": [
      "/Users/lamborellemaxime/anaconda3/envs/ntds_2019/lib/python3.7/site-packages/networkx/drawing/nx_pylab.py:579: MatplotlibDeprecationWarning: \n",
      "The iterable function was deprecated in Matplotlib 3.1 and will be removed in 3.3. Use np.iterable instead.\n",
      "  if not cb.iterable(width):\n"
     ]
    },
    {
     "data": {
      "image/png": "[encoded data removed]",
      "text/plain": [
       "<Figure size 432x288 with 1 Axes>"
      ]
     },
     "metadata": {},
     "output_type": "display_data"
    }
   ],
   "source": [
    "nx.draw_spectral(graph, node_color=colors)"
   ]
  },
  {
   "cell_type": "markdown",
   "metadata": {},
   "source": [
    "Oh! It seems to be separated in 3 parts! Are they related to the 3 different species of iris?\n",
    "\n",
    "Let us try another [layout algorithm](https://en.wikipedia.org/wiki/Graph_drawing#Layout_methods), where the edges are modeled as springs."
   ]
  },
  {
   "cell_type": "code",
   "execution_count": 23,
   "metadata": {},
   "outputs": [
    {
     "data": {
      "image/png": "[encoded data removed]",
      "text/plain": [
       "<Figure size 432x288 with 1 Axes>"
      ]
     },
     "metadata": {},
     "output_type": "display_data"
    }
   ],
   "source": [
    "nx.draw_spring(graph, node_color=colors)"
   ]
  },
  {
   "cell_type": "markdown",
   "metadata": {},
   "source": [
    "Save the graph to disk in the `gexf` format, readable by gephi and other tools that manipulate graphs. You may now explore the graph using gephi and compare the visualizations."
   ]
  },
  {
   "cell_type": "code",
   "execution_count": 24,
   "metadata": {},
   "outputs": [],
   "source": [
    "nx.write_gexf(graph, 'iris.gexf')"
   ]
  },
  {
   "cell_type": "markdown",
   "metadata": {},
   "source": [
    "**Exercise 1:**\n",
    "Modify the experiment such that the distance is computed using normalized features, i.e., all features (columns of `features`) having the same mean and variance.\n",
    "This avoids having some features with too much importance in the computation of distance.\n"
   ]
  },
  {
   "cell_type": "markdown",
   "metadata": {},
   "source": [
    "**Exercise 2 (advanced):**\n",
    "Construct the graph of k-nearest neighbors (choose $k=4$).\n",
    "You may read the [kNN section of scikit-learn](https://scikit-learn.org/stable/modules/neighbors.html) and use this python module."
   ]
  },
  {
   "cell_type": "code",
   "execution_count": null,
   "metadata": {},
   "outputs": [],
   "source": [
    "# Your code here."
   ]
  }
 ],
 "metadata": {
  "kernelspec": {
   "display_name": "Python 3",
   "language": "python",
   "name": "python3"
  },
  "language_info": {
   "codemirror_mode": {
    "name": "ipython",
    "version": 3
   },
   "file_extension": ".py",
   "mimetype": "text/x-python",
   "name": "python",
   "nbconvert_exporter": "python",
   "pygments_lexer": "ipython3",
   "version": "3.7.3"
  }
 },
 "nbformat": 4,
 "nbformat_minor": 4
}
